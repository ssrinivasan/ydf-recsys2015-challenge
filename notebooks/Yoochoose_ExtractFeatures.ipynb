{
 "cells": [
  {
   "cell_type": "markdown",
   "metadata": {},
   "source": [
    "# Yoochoose: Extract Features"
   ]
  },
  {
   "cell_type": "code",
   "execution_count": 1,
   "metadata": {
    "collapsed": true
   },
   "outputs": [],
   "source": [
    "import collections\n",
    "import datetime\n",
    "import operator\n",
    "import math\n",
    "import functools\n",
    "\n",
    "from utils import *"
   ]
  },
  {
   "cell_type": "code",
   "execution_count": 2,
   "metadata": {
    "collapsed": false
   },
   "outputs": [
    {
     "name": "stdout",
     "output_type": "stream",
     "text": [
      "<pyspark.context.SparkContext object at 0x10de53410>\n"
     ]
    }
   ],
   "source": [
    "# Start Spark context\n",
    "CLUSTER_URL = 'spark://localhost:7077'\n",
    "from pyspark import  SparkContext\n",
    "sc = SparkContext( CLUSTER_URL, 'pyspark')\n",
    "\n",
    "print sc\n",
    "\n",
    "from pyspark.sql import SQLContext\n",
    "sqlContext = SQLContext(sc)\n",
    "\n",
    "sc.addPyFile('utils.py')"
   ]
  },
  {
   "cell_type": "code",
   "execution_count": 3,
   "metadata": {
    "collapsed": false
   },
   "outputs": [
    {
     "name": "stdout",
     "output_type": "stream",
     "text": [
      "Finished Loading training Sessions\n",
      "Finished Loading Testing Sessions\n",
      "Train sessions: 9249729\n",
      "Test sessions:  2312432\n"
     ]
    }
   ],
   "source": [
    "from utils import *\n",
    "sc.addPyFile('utils.py')\n",
    "\n",
    "#train_sessions, test_sessions = load_sessions(sc)\n",
    "train_sessions = sc.pickleFile('train_sessions.pickle')\n",
    "print 'Finished Loading training Sessions'\n",
    "test_sessions = sc.pickleFile('test_sessions.pickle')\n",
    "print 'Finished Loading Testing Sessions'\n",
    "\n",
    "print 'Train sessions:', train_sessions.count()\n",
    "print 'Test sessions: ', test_sessions.count()"
   ]
  },
  {
   "cell_type": "markdown",
   "metadata": {},
   "source": [
    "## Splits"
   ]
  },
  {
   "cell_type": "code",
   "execution_count": 6,
   "metadata": {
    "collapsed": false
   },
   "outputs": [],
   "source": [
    "splits_purchase = {\n",
    "    'train': train_sessions.filter(random_subset('ex2:10:0,1,2,3,4,5,6,7,8')),\n",
    "    'valid': train_sessions.filter(random_subset('ex2:10:9')),\n",
    "    'test': test_sessions,\n",
    "}\n",
    "\n",
    "splits_item = {\n",
    "    'train': train_sessions.filter(random_subset('ex2:10:0,1,2,3,4,5,6,7,8')).filter(positive_session),\n",
    "    'valid': train_sessions.filter(random_subset('ex2:10:9')).filter(positive_session),\n",
    "    'valid_full': train_sessions.filter(random_subset('ex2:10:9')),\n",
    "    'test': test_sessions,\n",
    "}"
   ]
  },
  {
   "cell_type": "code",
   "execution_count": 5,
   "metadata": {
    "collapsed": false
   },
   "outputs": [
    {
     "name": "stdout",
     "output_type": "stream",
     "text": [
      "{'test': MapPartitionsRDD[3] at objectFile at NativeMethodAccessorImpl.java:-2, 'train': PythonRDD[6] at RDD at PythonRDD.scala:43, 'valid': PythonRDD[7] at RDD at PythonRDD.scala:43}\n"
     ]
    }
   ],
   "source": [
    "print splits_purchase"
   ]
  },
  {
   "cell_type": "markdown",
   "metadata": {},
   "source": [
    "## Statistics"
   ]
  },
  {
   "cell_type": "code",
   "execution_count": 9,
   "metadata": {
    "collapsed": false
   },
   "outputs": [],
   "source": [
    "from pyspark.sql import Row\n",
    "\n",
    "def extract_buys_info((session_id, (clicks, buys))):\n",
    "    for dt, item_id, qty, price in buys:\n",
    "        yield Row(session_id=session_id, item_id=item_id, qty=qty, price=price)\n",
    "        \n",
    "def extract_clicks_info((session_id, (clicks, buys))):\n",
    "    for dt, item_id, cat in clicks:\n",
    "        yield Row(session_id=session_id, item_id=item_id, cat=cat)\n",
    "    \n",
    "train_sessions.flatMap(extract_buys_info).toDF().registerTempTable('buy_events')\n",
    "train_sessions.flatMap(extract_clicks_info).toDF().registerTempTable('click_events')\n",
    "\n"
   ]
  },
  {
   "cell_type": "code",
   "execution_count": 13,
   "metadata": {
    "collapsed": true
   },
   "outputs": [],
   "source": [
    "#SQL to compute some more stats . \n",
    "\n",
    "\n",
    "bought_item_stats_sql = \"\"\"\n",
    "    SELECT \n",
    "        item_id,\n",
    "        COUNT(1) as buys\n",
    "    FROM buy_events\n",
    "    GROUP BY item_id\n",
    "    ORDER BY buys DESC, item_id\n",
    "\"\"\"\n",
    "\n",
    "clicked_cat_stats = \"\"\"\n",
    "    SELECT \n",
    "        cat,\n",
    "        COUNT(DISTINCT session_id) as n_sessions\n",
    "    FROM click_events\n",
    "    GROUP BY cat\n",
    "    ORDER BY n_sessions DESC, cat\n",
    "\"\"\"\n",
    "bought_item_stats = sqlContext.sql(bought_item_stats_sql).toPandas()\n",
    "clicked_cat_stats = sqlContext.sql(clicked_cat_stats).toPandas()"
   ]
  },
  {
   "cell_type": "code",
   "execution_count": 16,
   "metadata": {
    "collapsed": false
   },
   "outputs": [
    {
     "name": "stdout",
     "output_type": "stream",
     "text": [
      "Items of interest: 19949\n",
      "Cats of interest: 339\n",
      "Hello\n"
     ]
    }
   ],
   "source": [
    "items_of_interest = list(bought_item_stats['item_id'])\n",
    "print 'Items of interest:', len(items_of_interest)\n",
    "\n",
    "cats_of_interest = list(clicked_cat_stats['cat'])\n",
    "print 'Cats of interest:', len(cats_of_interest)"
   ]
  },
  {
   "cell_type": "markdown",
   "metadata": {},
   "source": [
    "## Extract Features"
   ]
  },
  {
   "cell_type": "code",
   "execution_count": 17,
   "metadata": {
    "collapsed": true
   },
   "outputs": [],
   "source": [
    "def features_from_timestamp(ts):\n",
    "    features = [\n",
    "        ('categ', ts.strftime('m%m')),\n",
    "        ('categ', ts.strftime('d%d')),\n",
    "        ('categ', ts.strftime('md%m%d')),\n",
    "        ('categ', ts.strftime('mdh%m%d%H')),\n",
    "        ('categ', ts.strftime('H%H')),\n",
    "        ('categ', ts.strftime('M%M')),\n",
    "        ('categ', ts.weekday()),\n",
    "        ('num', ts.month),\n",
    "        ('num', ts.day),\n",
    "        ('num', ts.hour),\n",
    "        ('num', ts.minute),\n",
    "        ('num', (ts - datetime.datetime(2014, 1, 1)).total_seconds()),\n",
    "        ('num', ts.minute + ts.hour * 60),\n",
    "        ('num', (ts.minute + ts.hour * 60) * 60 + ts.second),\n",
    "    ]\n",
    "    return features"
   ]
  },
  {
   "cell_type": "markdown",
   "metadata": {},
   "source": [
    "### Session features"
   ]
  },
  {
   "cell_type": "code",
   "execution_count": 18,
   "metadata": {
    "collapsed": true
   },
   "outputs": [],
   "source": [
    "def extract_session_features(session, items_of_interest=[], cats_of_interest=[]):\n",
    "    session_id, (clicks, buys) = session\n",
    "    \n",
    "    buyed = set()\n",
    "    buyed_price = collections.Counter()\n",
    "    buyed_qty = collections.Counter()\n",
    "    for ts, item_id, price, qty in buys:\n",
    "        buyed.add(item_id)\n",
    "        buyed_price[item_id] += price\n",
    "        buyed_qty[item_id] += qty\n",
    "    \n",
    "    clicked_items = set()\n",
    "    clicked_cats = set()\n",
    "    clicked_itemcats = set()\n",
    "    clicked_item_cnt = collections.Counter()\n",
    "    clicked_cat_cnt = collections.Counter()\n",
    "    clicked_itemcat_cnt = collections.Counter()\n",
    "    click_first_time = {}\n",
    "    click_last_time = {}\n",
    "    session_start = None\n",
    "    session_last_click = None\n",
    "    item_cats = collections.defaultdict(set)\n",
    "    for ts, item_id, cat in clicks:\n",
    "        clicked_items.add(item_id)\n",
    "        clicked_cats.add(cat)\n",
    "        clicked_itemcats.add(item_id + '$' + cat)\n",
    "        clicked_item_cnt[item_id] += 1\n",
    "        clicked_cat_cnt[cat] += 1\n",
    "        clicked_itemcat_cnt[item_id + '$' + cat] += 1\n",
    "        click_first_time[item_id] = min(ts, click_first_time.get(item_id, ts))\n",
    "        click_last_time[item_id] = max(ts, click_last_time.get(item_id, ts))\n",
    "        item_cats[item_id].add(cat)\n",
    "        if session_start is None or ts < session_start:\n",
    "            session_start = ts\n",
    "        if session_last_click is None or ts > session_last_click:\n",
    "            session_last_click = ts\n",
    "            \n",
    "    item_duration = collections.Counter()\n",
    "    item_periods = collections.Counter()\n",
    "    cat_duration = collections.Counter()\n",
    "    cat_periods = collections.Counter()\n",
    "    sum_duration = 0.0\n",
    "    clicks = sorted(clicks, key=operator.itemgetter(0))\n",
    "    for (ts, item_id, cat), (ts_next, item_id_next, cat_next) in zip(clicks[:-1], clicks[1:]):\n",
    "        if ts_next - ts > datetime.timedelta(hours=1):\n",
    "            duration = 10.0 # end of the session\n",
    "        else:\n",
    "            duration = (ts_next - ts).total_seconds()\n",
    "        duration = (ts_next - ts).total_seconds()\n",
    "        item_duration[item_id] += duration\n",
    "        item_periods[item_id] += 1\n",
    "        cat_duration[cat] += duration\n",
    "        cat_periods[cat] += 1\n",
    "        sum_duration += duration\n",
    "    \n",
    "    features = []\n",
    "\n",
    "    # time features\n",
    "    features += features_from_timestamp(session_start)\n",
    "    features += features_from_timestamp(session_last_click)\n",
    "\n",
    "    # session length\n",
    "    features + [\n",
    "        ('num', (session_last_click - session_start).total_seconds()),\n",
    "    ]\n",
    "\n",
    "    # click counts\n",
    "    features.extend([\n",
    "        ('num', len(clicks)),\n",
    "        ('num', len(clicked_items)),\n",
    "        ('num', len(clicked_cats)),\n",
    "        ('num', len(clicked_itemcats)),\n",
    "    ])\n",
    "\n",
    "    # top items/cats by the number of clicks in the session\n",
    "    ranked_items = sorted(clicked_item_cnt.items(), key=operator.itemgetter(1), reverse=True)\n",
    "    features += [\n",
    "        ('categ', ranked_items[i][0] if i < len(ranked_items) else None)\n",
    "        for i in xrange(10)\n",
    "    ]\n",
    "    ranked_cats = sorted(clicked_cat_cnt.items(), key=operator.itemgetter(1), reverse=True)\n",
    "    features += [\n",
    "        ('categ', ranked_cats[i][0] if i < len(ranked_cats) else None)\n",
    "        for i in xrange(5)\n",
    "    ]\n",
    "    \n",
    "    # last/first item, clicked >= k times\n",
    "    def first_and_last_item_clickes_geq_k_times(seq_clicks, k):\n",
    "        candidates = [item_id for _, item_id, _ in seq_clicks if clicked_item_cnt[item_id] >= k]\n",
    "        if len(candidates) == 0:\n",
    "            return None, None\n",
    "        else:\n",
    "            return candidates[0], candidates[-1]\n",
    "    for k in (1, 2, 3, 4, 5, 6):\n",
    "        first_item, last_item = first_and_last_item_clickes_geq_k_times(clicks, k)\n",
    "        features += [\n",
    "            ('categ', first_item),\n",
    "            ('categ', last_item),\n",
    "        ]\n",
    "\n",
    "    # dense statistics for several items/cats\n",
    "    features += [\n",
    "        ('num', clicked_item_cnt.get(item_id, 0))\n",
    "        for item_id in items_of_interest\n",
    "    ]\n",
    "    features += [\n",
    "        ('num', item_duration.get(item_id, 0))\n",
    "        for item_id in items_of_interest\n",
    "    ]\n",
    "    features += [\n",
    "        ('num', clicked_cat_cnt.get(cat, 0))\n",
    "        for cat in cats_of_interest\n",
    "    ]\n",
    "    features += [\n",
    "        ('num', cat_duration.get(cat, 0))\n",
    "        for cat in cats_of_interest\n",
    "    ]\n",
    "\n",
    "    target = int(len(buyed) > 0)\n",
    "    yield session_id, 0, target, features"
   ]
  },
  {
   "cell_type": "markdown",
   "metadata": {},
   "source": [
    "### Session-Item examples"
   ]
  },
  {
   "cell_type": "code",
   "execution_count": 19,
   "metadata": {
    "collapsed": true
   },
   "outputs": [],
   "source": [
    "def extract_session_item_features(session, items_of_interest=[], cats_of_interest=[]):\n",
    "    session_id, (clicks, buys) = session\n",
    "    \n",
    "    buyed = set()\n",
    "    buyed_price = collections.Counter()\n",
    "    buyed_qty = collections.Counter()\n",
    "    for ts, item_id, price, qty in buys:\n",
    "        buyed.add(item_id)\n",
    "        buyed_price[item_id] += price\n",
    "        buyed_qty[item_id] += qty\n",
    "    \n",
    "    clicked_items = set()\n",
    "    clicked_cats = set()\n",
    "    clicked_itemcats = set()\n",
    "    clicked_item_cnt = collections.Counter()\n",
    "    clicked_cat_cnt = collections.Counter()\n",
    "    clicked_itemcat_cnt = collections.Counter()\n",
    "    click_first_time = {}\n",
    "    click_last_time = {}\n",
    "    session_start = None\n",
    "    session_last_click = None\n",
    "    item_cats = collections.defaultdict(set)\n",
    "    for ts, item_id, cat in clicks:\n",
    "        clicked_items.add(item_id)\n",
    "        clicked_cats.add(cat)\n",
    "        clicked_itemcats.add(item_id + '$' + cat)\n",
    "        clicked_item_cnt[item_id] += 1\n",
    "        clicked_cat_cnt[cat] += 1\n",
    "        clicked_itemcat_cnt[item_id + '$' + cat] += 1\n",
    "        click_first_time[item_id] = min(ts, click_first_time.get(item_id, ts))\n",
    "        click_last_time[item_id] = max(ts, click_last_time.get(item_id, ts))\n",
    "        item_cats[item_id].add(cat)\n",
    "        if session_start is None or ts < session_start:\n",
    "            session_start = ts\n",
    "        if session_last_click is None or ts > session_last_click:\n",
    "            session_last_click = ts\n",
    "            \n",
    "    item_duration = collections.Counter()\n",
    "    item_periods = collections.Counter()\n",
    "    cat_duration = collections.Counter()\n",
    "    cat_periods = collections.Counter()\n",
    "    sum_duration = 0.0\n",
    "    clicks = sorted(clicks, key=operator.itemgetter(0))\n",
    "    for (ts, item_id, cat), (ts_next, item_id_next, cat_next) in zip(clicks[:-1], clicks[1:]):\n",
    "        if ts_next - ts > datetime.timedelta(hours=1):\n",
    "            duration = 10.0 # end of the session\n",
    "        else:\n",
    "            duration = (ts_next - ts).total_seconds()\n",
    "        item_duration[item_id] += duration\n",
    "        item_periods[item_id] += 1\n",
    "        cat_duration[cat] += duration\n",
    "        cat_periods[cat] += 1\n",
    "        sum_duration += duration\n",
    "    \n",
    "    for cur_item_id in clicked_items:\n",
    "        \n",
    "        # target item_id\n",
    "        features = [\n",
    "            ('categ', cur_item_id),\n",
    "        ]\n",
    "        \n",
    "        # time features\n",
    "        features += features_from_timestamp(session_start)\n",
    "        features += features_from_timestamp(session_last_click)\n",
    "        features += features_from_timestamp(click_first_time[cur_item_id])\n",
    "        features += features_from_timestamp(click_last_time[cur_item_id])\n",
    "        \n",
    "        # durations\n",
    "        features += [\n",
    "            ('num', (session_last_click - session_start).total_seconds()),\n",
    "            ('num', (click_last_time[cur_item_id] - click_first_time[cur_item_id]).total_seconds()),\n",
    "            ('num', item_duration[cur_item_id]),\n",
    "            ('num', item_duration[cur_item_id] / (sum_duration + 1e-8)),\n",
    "            ('num', item_duration[cur_item_id] / (item_periods[cur_item_id] + 1e-8)),\n",
    "            ('num', sum(cat_duration[cat] for cat in item_cats[cur_item_id])),\n",
    "            ('num', sum(cat_duration[cat] for cat in item_cats[cur_item_id]) / (sum_duration + 1e-8)),\n",
    "            ('num', sum(cat_duration[cat] / (cat_periods[cat] + 1e-8) for cat in item_cats[cur_item_id])),\n",
    "        ]\n",
    "        \n",
    "        # click counts\n",
    "        features.extend([\n",
    "            ('num', clicked_item_cnt[cur_item_id]),\n",
    "            ('num', len(clicks)),\n",
    "            ('num', float(clicked_item_cnt[cur_item_id]) / len(clicks)),\n",
    "            ('num', len(clicked_items)),\n",
    "            ('num', len(clicked_cats)),\n",
    "            ('num', len(clicked_itemcats)),\n",
    "            ('num', len(item_cats[cur_item_id])),\n",
    "        ])\n",
    "            \n",
    "        # top items/cats by the number of clicks in the session\n",
    "        ranked_items = sorted(clicked_item_cnt.items(), key=operator.itemgetter(1), reverse=True)\n",
    "        features += [\n",
    "            ('categ', ranked_items[i][0] if i < len(ranked_items) else None)\n",
    "            for i in xrange(10)\n",
    "        ]\n",
    "        ranked_cats = sorted(clicked_cat_cnt.items(), key=operator.itemgetter(1), reverse=True)\n",
    "        features += [\n",
    "            ('categ', ranked_cats[i][0] if i < len(ranked_cats) else None)\n",
    "            for i in xrange(5)\n",
    "        ]\n",
    "        \n",
    "        # last/first item, clicked >= k times\n",
    "        def first_and_last_item_clickes_geq_k_times(seq_clicks, k):\n",
    "            candidates = [item_id for _, item_id, _ in seq_clicks if clicked_item_cnt[item_id] >= k]\n",
    "            if len(candidates) == 0:\n",
    "                return None, None\n",
    "            else:\n",
    "                return candidates[0], candidates[-1]\n",
    "        for k in (1, 2, 3, 4, 5, 6):\n",
    "            first_item, last_item = first_and_last_item_clickes_geq_k_times(clicks, k)\n",
    "            features += [\n",
    "                ('categ', first_item),\n",
    "                ('categ', last_item),\n",
    "            ]\n",
    "                \n",
    "        # dense statistics on items/cats of interest\n",
    "        features += [\n",
    "            ('num', clicked_item_cnt.get(item_id, 0))\n",
    "            for item_id in items_of_interest\n",
    "        ]\n",
    "        features += [\n",
    "            ('num', item_duration.get(item_id, 0))\n",
    "            for item_id in items_of_interest\n",
    "        ]\n",
    "        features += [\n",
    "            ('num', clicked_cat_cnt.get(cat, 0))\n",
    "            for cat in cats_of_interest\n",
    "        ]\n",
    "        features += [\n",
    "            ('num', cat_duration.get(cat, 0))\n",
    "            for cat in cats_of_interest\n",
    "        ]\n",
    "        \n",
    "        target = int(cur_item_id in buyed)\n",
    "        yield session_id, cur_item_id, target, features"
   ]
  },
  {
   "cell_type": "markdown",
   "metadata": {},
   "source": [
    "## Construct feature sets"
   ]
  },
  {
   "cell_type": "code",
   "execution_count": 20,
   "metadata": {
    "collapsed": false
   },
   "outputs": [
    {
     "name": "stdout",
     "output_type": "stream",
     "text": [
      "Constructing feature sets: features_purchase\n",
      "   test\n",
      "   train\n",
      "   valid\n",
      "   46 min\n",
      "Constructing feature sets: features_item\n",
      "   test\n",
      "   train\n",
      "   valid_full\n",
      "   valid\n",
      "   79 min\n"
     ]
    }
   ],
   "source": [
    "construct_feature_set(sc,\n",
    "    'features_purchase',\n",
    "    splits_purchase,\n",
    "    extract_session_features, \n",
    "    items_of_interest=items_of_interest[:100],\n",
    "    cats_of_interest=cats_of_interest[:50],\n",
    ")\n",
    "\n",
    "construct_feature_set(sc, \n",
    "    'features_item',\n",
    "    splits_item, \n",
    "    extract_session_item_features, \n",
    "    items_of_interest=items_of_interest[:100],\n",
    "    cats_of_interest=cats_of_interest[:50],\n",
    ")"
   ]
  },
  {
   "cell_type": "code",
   "execution_count": null,
   "metadata": {
    "collapsed": true
   },
   "outputs": [],
   "source": []
  }
 ],
 "metadata": {
  "kernelspec": {
   "display_name": "Python 2",
   "language": "python",
   "name": "python2"
  },
  "language_info": {
   "codemirror_mode": {
    "name": "ipython",
    "version": 2
   },
   "file_extension": ".py",
   "mimetype": "text/x-python",
   "name": "python",
   "nbconvert_exporter": "python",
   "pygments_lexer": "ipython2",
   "version": "2.7.2"
  }
 },
 "nbformat": 4,
 "nbformat_minor": 0
}
